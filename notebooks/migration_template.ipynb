{
  "cells": [
    {
      "cell_type": "markdown",
      "metadata": {
        "id": "ed-buAM3Cm5F"
      },
      "source": [
        "# Google Drive 마이그레이션 테스트 (간단 버전)\n",
        "\n",
        "Google Colab의 내장 인증을 사용합니다.\n",
        "\n",
        "## 사용 방법\n",
        "1. 셀을 순서대로 실행하세요\n",
        "2. Google 계정으로 로그인하세요\n",
        "3. 파일 목록을 확인하세요\n"
      ]
    },
    {
      "cell_type": "code",
      "execution_count": null,
      "metadata": {
        "colab": {
          "base_uri": "https://localhost:8080/"
        },
        "id": "NWAPZ7mfCm5G",
        "outputId": "1b09eaee-ea39-455c-c147-14fd6f1d2bd5"
      },
      "outputs": [
        {
          "name": "stdout",
          "output_type": "stream",
          "text": [
            "Requirement already satisfied: google-api-python-client in /usr/local/lib/python3.12/dist-packages (2.181.0)\n",
            "Requirement already satisfied: pandas in /usr/local/lib/python3.12/dist-packages (2.2.2)\n",
            "Requirement already satisfied: tqdm in /usr/local/lib/python3.12/dist-packages (4.67.1)\n",
            "Requirement already satisfied: httplib2<1.0.0,>=0.19.0 in /usr/local/lib/python3.12/dist-packages (from google-api-python-client) (0.30.0)\n",
            "Requirement already satisfied: google-auth!=2.24.0,!=2.25.0,<3.0.0,>=1.32.0 in /usr/local/lib/python3.12/dist-packages (from google-api-python-client) (2.38.0)\n",
            "Requirement already satisfied: google-auth-httplib2<1.0.0,>=0.2.0 in /usr/local/lib/python3.12/dist-packages (from google-api-python-client) (0.2.0)\n",
            "Requirement already satisfied: google-api-core!=2.0.*,!=2.1.*,!=2.2.*,!=2.3.0,<3.0.0,>=1.31.5 in /usr/local/lib/python3.12/dist-packages (from google-api-python-client) (2.25.1)\n",
            "Requirement already satisfied: uritemplate<5,>=3.0.1 in /usr/local/lib/python3.12/dist-packages (from google-api-python-client) (4.2.0)\n",
            "Requirement already satisfied: numpy>=1.26.0 in /usr/local/lib/python3.12/dist-packages (from pandas) (2.0.2)\n",
            "Requirement already satisfied: python-dateutil>=2.8.2 in /usr/local/lib/python3.12/dist-packages (from pandas) (2.9.0.post0)\n",
            "Requirement already satisfied: pytz>=2020.1 in /usr/local/lib/python3.12/dist-packages (from pandas) (2025.2)\n",
            "Requirement already satisfied: tzdata>=2022.7 in /usr/local/lib/python3.12/dist-packages (from pandas) (2025.2)\n",
            "Requirement already satisfied: googleapis-common-protos<2.0.0,>=1.56.2 in /usr/local/lib/python3.12/dist-packages (from google-api-core!=2.0.*,!=2.1.*,!=2.2.*,!=2.3.0,<3.0.0,>=1.31.5->google-api-python-client) (1.70.0)\n",
            "Requirement already satisfied: protobuf!=3.20.0,!=3.20.1,!=4.21.0,!=4.21.1,!=4.21.2,!=4.21.3,!=4.21.4,!=4.21.5,<7.0.0,>=3.19.5 in /usr/local/lib/python3.12/dist-packages (from google-api-core!=2.0.*,!=2.1.*,!=2.2.*,!=2.3.0,<3.0.0,>=1.31.5->google-api-python-client) (5.29.5)\n",
            "Requirement already satisfied: proto-plus<2.0.0,>=1.22.3 in /usr/local/lib/python3.12/dist-packages (from google-api-core!=2.0.*,!=2.1.*,!=2.2.*,!=2.3.0,<3.0.0,>=1.31.5->google-api-python-client) (1.26.1)\n",
            "Requirement already satisfied: requests<3.0.0,>=2.18.0 in /usr/local/lib/python3.12/dist-packages (from google-api-core!=2.0.*,!=2.1.*,!=2.2.*,!=2.3.0,<3.0.0,>=1.31.5->google-api-python-client) (2.32.4)\n",
            "Requirement already satisfied: cachetools<6.0,>=2.0.0 in /usr/local/lib/python3.12/dist-packages (from google-auth!=2.24.0,!=2.25.0,<3.0.0,>=1.32.0->google-api-python-client) (5.5.2)\n",
            "Requirement already satisfied: pyasn1-modules>=0.2.1 in /usr/local/lib/python3.12/dist-packages (from google-auth!=2.24.0,!=2.25.0,<3.0.0,>=1.32.0->google-api-python-client) (0.4.2)\n",
            "Requirement already satisfied: rsa<5,>=3.1.4 in /usr/local/lib/python3.12/dist-packages (from google-auth!=2.24.0,!=2.25.0,<3.0.0,>=1.32.0->google-api-python-client) (4.9.1)\n",
            "Requirement already satisfied: pyparsing<4,>=3.0.4 in /usr/local/lib/python3.12/dist-packages (from httplib2<1.0.0,>=0.19.0->google-api-python-client) (3.2.3)\n",
            "Requirement already satisfied: six>=1.5 in /usr/local/lib/python3.12/dist-packages (from python-dateutil>=2.8.2->pandas) (1.17.0)\n",
            "Requirement already satisfied: pyasn1<0.7.0,>=0.6.1 in /usr/local/lib/python3.12/dist-packages (from pyasn1-modules>=0.2.1->google-auth!=2.24.0,!=2.25.0,<3.0.0,>=1.32.0->google-api-python-client) (0.6.1)\n",
            "Requirement already satisfied: charset_normalizer<4,>=2 in /usr/local/lib/python3.12/dist-packages (from requests<3.0.0,>=2.18.0->google-api-core!=2.0.*,!=2.1.*,!=2.2.*,!=2.3.0,<3.0.0,>=1.31.5->google-api-python-client) (3.4.3)\n",
            "Requirement already satisfied: idna<4,>=2.5 in /usr/local/lib/python3.12/dist-packages (from requests<3.0.0,>=2.18.0->google-api-core!=2.0.*,!=2.1.*,!=2.2.*,!=2.3.0,<3.0.0,>=1.31.5->google-api-python-client) (3.10)\n",
            "Requirement already satisfied: urllib3<3,>=1.21.1 in /usr/local/lib/python3.12/dist-packages (from requests<3.0.0,>=2.18.0->google-api-core!=2.0.*,!=2.1.*,!=2.2.*,!=2.3.0,<3.0.0,>=1.31.5->google-api-python-client) (2.5.0)\n",
            "Requirement already satisfied: certifi>=2017.4.17 in /usr/local/lib/python3.12/dist-packages (from requests<3.0.0,>=2.18.0->google-api-core!=2.0.*,!=2.1.*,!=2.2.*,!=2.3.0,<3.0.0,>=1.31.5->google-api-python-client) (2025.8.3)\n",
            "✅ 라이브러리 로드 완료\n"
          ]
        }
      ],
      "source": [
        "# 런타임 설정 및 라이브러리 설치\n",
        "import sys\n",
        "import os\n",
        "\n",
        "# Python 버전 확인\n",
        "print(f\"Python 버전: {sys.version}\")\n",
        "print(f\"Python 실행 경로: {sys.executable}\")\n",
        "\n",
        "# 필요한 라이브러리 설치\n",
        "%pip install google-api-python-client pandas tqdm\n",
        "import pandas as pd\n",
        "from tqdm import tqdm\n",
        "from datetime import datetime\n",
        "\n",
        "# Google Colab 내장 인증 사용\n",
        "from google.colab import auth\n",
        "from googleapiclient.discovery import build\n",
        "from googleapiclient.errors import HttpError\n",
        "\n",
        "print(\"✅ 라이브러리 로드 완료\")\n"
      ]
    },
    {
      "cell_type": "code",
      "execution_count": 2,
      "metadata": {
        "colab": {
          "base_uri": "https://localhost:8080/"
        },
        "id": "OV_dskB4Cm5G",
        "outputId": "a1262d61-e568-42be-ff56-bbb4a57e24a7"
      },
      "outputs": [
        {
          "name": "stdout",
          "output_type": "stream",
          "text": [
            "🔐 Google 계정 인증을 시작합니다...\n",
            "팝업 창에서 Google 계정으로 로그인하세요.\n",
            "✅ 인증 완료!\n"
          ]
        }
      ],
      "source": [
        "# Google 계정 인증 (credentials.json 불필요)\n",
        "print(\"🔐 Google 계정 인증을 시작합니다...\")\n",
        "print(\"팝업 창에서 Google 계정으로 로그인하세요.\")\n",
        "\n",
        "# Google Colab 내장 인증 사용\n",
        "auth.authenticate_user()\n",
        "\n",
        "# Google Drive API 서비스 생성\n",
        "drive_service = build('drive', 'v3')\n",
        "\n",
        "print(\"✅ 인증 완료!\")\n"
      ]
    },
    {
      "cell_type": "code",
      "execution_count": 3,
      "metadata": {
        "colab": {
          "base_uri": "https://localhost:8080/"
        },
        "id": "Dfv-1xSXCm5H",
        "outputId": "311f8be9-6c84-4347-94f7-3fb2a9a0db51"
      },
      "outputs": [
        {
          "name": "stdout",
          "output_type": "stream",
          "text": [
            "👤 사용자 정보 조회 중...\n",
            "✅ 사용자 정보:\n",
            "  - 이름: 김태형\n",
            "  - 이메일: thkim@us-all.co.kr\n"
          ]
        }
      ],
      "source": [
        "# 사용자 정보 조회\n",
        "print(\"👤 사용자 정보 조회 중...\")\n",
        "\n",
        "try:\n",
        "    about = drive_service.about().get(fields='user').execute()\n",
        "    user_info = about.get('user', {})\n",
        "\n",
        "    print(f\"✅ 사용자 정보:\")\n",
        "    print(f\"  - 이름: {user_info.get('displayName', 'Unknown')}\")\n",
        "    print(f\"  - 이메일: {user_info.get('emailAddress', 'Unknown')}\")\n",
        "\n",
        "except Exception as e:\n",
        "    print(f\"❌ 사용자 정보 조회 실패: {e}\")\n"
      ]
    },
    {
      "cell_type": "code",
      "execution_count": 4,
      "metadata": {
        "colab": {
          "base_uri": "https://localhost:8080/"
        },
        "id": "oCkSySDICm5H",
        "outputId": "93ee02dc-e4cd-491a-fe1c-384d05743b14"
      },
      "outputs": [
        {
          "name": "stdout",
          "output_type": "stream",
          "text": [
            "📁 파일 목록 조회 중...\n",
            "✅ 파일 목록 (최대 10개):\n",
            "   1. 교육과정별 판매 상세 데이터(25년) (987.0KB) 🔗\n",
            "      ID: 1Xt2poreEJcKSzahZVa0AcgJfbbf1w8U_DCJAMIlhzO0\n",
            "      타입: application/vnd.google-apps.spreadsheet\n",
            "      수정일: 2025-09-05T04:32:59.906Z\n",
            "\n",
            "   2. (IVE)어스캠퍼스 데일리 리포트 (98.8KB) 🔗\n",
            "      ID: 10x30Gw5ho-4fm-BPrcv803Y9Ww1aUYwPqBKn5tSzTQ4\n",
            "      타입: application/vnd.google-apps.spreadsheet\n",
            "      수정일: 2025-09-05T01:30:04.180Z\n",
            "\n",
            "   3. 어스플러스_운영지표 (41.7KB) 🔗\n",
            "      ID: 1edcFkQGvcXVhkMhI2WNwd9nMfxE1gkp4eizHIHYYC8s\n",
            "      타입: application/vnd.google-apps.spreadsheet\n",
            "      수정일: 2025-09-05T00:20:36.211Z\n",
            "\n",
            "   4. 퀀팃과 스마일게이트자산운용 분석\n",
            " (18.0KB) 🔗\n",
            "      ID: 1J4NfUSqglWoy-SQdfYU93Z-8nYAd81dQaBRu7Uj37r4\n",
            "      타입: application/vnd.google-apps.document\n",
            "      수정일: 2025-09-04T04:19:39.360Z\n",
            "\n",
            "   5. US-23826-2.csv (1599.9KB) 🔒\n",
            "      ID: 1oEjdWP3L52X7JMu_RY3aCiYmonJe5oTY\n",
            "      타입: text/csv\n",
            "      수정일: 2025-09-03T09:30:26.786Z\n",
            "\n",
            "   6. bq-results-20250903-092927-1756891778011 (폴더) 🔒\n",
            "      ID: 1KY283XKvP7XDqTdJ1RIAIAFZo8N5Hvgz\n",
            "      타입: application/vnd.google-apps.folder\n",
            "      수정일: 2025-09-03T09:29:48.323Z\n",
            "\n",
            "   7. US-23826.csv (3279.2KB) 🔒\n",
            "      ID: 11ckxTz-Omc8Re3BTeqmILBz77XkDZOYB\n",
            "      타입: text/csv\n",
            "      수정일: 2025-09-03T09:25:15.348Z\n",
            "\n",
            "   8. bq-results-20250903-092347-1756891438735 (폴더) 🔒\n",
            "      ID: 1PjbvO0Jpk3c2Zphy8hY_VBlvTq70ghZC\n",
            "      타입: application/vnd.google-apps.folder\n",
            "      수정일: 2025-09-03T09:24:10.633Z\n",
            "\n",
            "   9. Colab Notebooks (폴더) 🔒\n",
            "      ID: 1CKhxffd_Z1RYUnSpXfnhlBkI1AFRD_rg\n",
            "      타입: application/vnd.google-apps.folder\n",
            "      수정일: 2025-09-02T05:03:57.648Z\n",
            "\n",
            "  10. 제목 없는 스프레드시트 (1.0KB) 🔒\n",
            "      ID: 10yul0cZXT0wA_MXNnZ8LtPloyFJL1hr-bXsayYzl9oc\n",
            "      타입: application/vnd.google-apps.spreadsheet\n",
            "      수정일: 2025-09-02T00:58:03.889Z\n",
            "\n"
          ]
        }
      ],
      "source": [
        "# 파일 목록 조회\n",
        "print(\"📁 파일 목록 조회 중...\")\n",
        "\n",
        "try:\n",
        "    results = drive_service.files().list(\n",
        "        pageSize=10,\n",
        "        fields=\"nextPageToken, files(id, name, mimeType, size, createdTime, modifiedTime, shared)\"\n",
        "    ).execute()\n",
        "\n",
        "    files = results.get('files', [])\n",
        "\n",
        "    if files:\n",
        "        print(f\"✅ 파일 목록 (최대 10개):\")\n",
        "\n",
        "        for i, file in enumerate(files, 1):\n",
        "            file_size = int(file.get('size', 0)) if file.get('size') else 0\n",
        "            size_str = f\"{file_size/1024:.1f}KB\" if file_size > 0 else \"폴더\"\n",
        "            shared_str = \"🔗\" if file.get('shared', False) else \"🔒\"\n",
        "\n",
        "            print(f\"  {i:2d}. {file['name']} ({size_str}) {shared_str}\")\n",
        "            print(f\"      ID: {file['id']}\")\n",
        "            print(f\"      타입: {file.get('mimeType', 'Unknown')}\")\n",
        "            print(f\"      수정일: {file.get('modifiedTime', 'Unknown')}\")\n",
        "            print()\n",
        "    else:\n",
        "        print(\"❌ 파일을 찾을 수 없습니다.\")\n",
        "\n",
        "except Exception as e:\n",
        "    print(f\"❌ 파일 목록 조회 실패: {e}\")\n"
      ]
    }
  ],
  "metadata": {
    "colab": {
      "provenance": []
    },
    "kernelspec": {
      "display_name": "Python 3",
      "name": "python3"
    },
    "language_info": {
      "name": "python"
    }
  },
  "nbformat": 4,
  "nbformat_minor": 0
}
