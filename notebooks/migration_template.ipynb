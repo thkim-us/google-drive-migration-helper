{
  "cells": [
    {
      "cell_type": "markdown",
      "metadata": {
        "id": "view-in-github",
        "colab_type": "text"
      },
      "source": [
        "<a href=\"https://colab.research.google.com/github/thkim-us/google-drive-migration-helper/blob/main/notebooks/migration_template.ipynb\" target=\"_parent\"><img src=\"https://colab.research.google.com/assets/colab-badge.svg\" alt=\"Open In Colab\"/></a>"
      ]
    },
    {
      "cell_type": "markdown",
      "metadata": {
        "id": "ed-buAM3Cm5F"
      },
      "source": [
        "# Google Drive 마이그레이션 테스트 (간단 버전)\n",
        "\n",
        "Google Colab의 내장 인증을 사용합니다.\n",
        "\n",
        "## 사용 방법\n",
        "1. 셀을 순서대로 실행하세요\n",
        "2. Google 계정으로 로그인하세요\n",
        "3. 파일 목록을 확인하세요\n"
      ]
    },
    {
      "cell_type": "code",
      "execution_count": 8,
      "metadata": {
        "colab": {
          "base_uri": "https://localhost:8080/"
        },
        "id": "NWAPZ7mfCm5G",
        "outputId": "2ba36b4a-621a-44d4-a608-3b5e5009a726"
      },
      "outputs": [
        {
          "output_type": "stream",
          "name": "stdout",
          "text": [
            "Drive already mounted at /content/drive; to attempt to forcibly remount, call drive.mount(\"/content/drive\", force_remount=True).\n"
          ]
        }
      ],
      "source": [
        "from google.colab import drive\n",
        "drive.mount('/content/drive')"
      ]
    },
    {
      "cell_type": "code",
      "execution_count": 9,
      "metadata": {
        "colab": {
          "base_uri": "https://localhost:8080/"
        },
        "id": "OV_dskB4Cm5G",
        "outputId": "d0f4abd6-2f75-4e38-91b1-3d6ac4f46370"
      },
      "outputs": [
        {
          "output_type": "stream",
          "name": "stdout",
          "text": [
            "📂 추출된 Folder ID: 1jpeF6TwCz8ATAUjrge57fdyLaPmw8hzB\n",
            "🚀 복사 시작: SRC(1jpeF6TwCz8ATAUjrge57fdyLaPmw8hzB) → 내 드라이브 / '개인 드라이브 백업'\n",
            "📊 사전 스캔 중... (총 파일 수 집계)\n",
            "총 파일 수: 4 (폴더 제외)\n",
            "\n"
          ]
        },
        {
          "output_type": "stream",
          "name": "stderr",
          "text": [
            "복사 진행: 100%|█| 4/4 [00:12<00:00,  3.21s/file, worksync project/Project_WorkSync_발표자료_ᄎ"
          ]
        },
        {
          "output_type": "stream",
          "name": "stdout",
          "text": [
            "\n",
            "🧾 로그 저장 위치: /content/drive/MyDrive/copy_logs/drive_copy_log_20250908_080542.csv\n",
            "📂 최종 대상 폴더: https://drive.google.com/drive/folders/1fFTWTIwjC3UVQVJoVCA8utImgaOHv8Ta\n",
            "✅ 완료! 대상 폴더 링크: https://drive.google.com/drive/folders/1fFTWTIwjC3UVQVJoVCA8utImgaOHv8Ta\n"
          ]
        },
        {
          "output_type": "stream",
          "name": "stderr",
          "text": [
            "\n"
          ]
        }
      ],
      "source": [
        "# ============================================\n",
        "# Google Drive 폴더 URL → 내 드라이브로 재귀 복사\n",
        "# - 진행률(progress bar) + 상세 로그 출력 + 실패 시 계속 진행\n",
        "# ============================================\n",
        "\n",
        "# 1) 공유 폴더 URL을 그대로 붙여넣으세요.\n",
        "SRC_FOLDER_URL = \"https://drive.google.com/drive/folders/1jpeF6TwCz8ATAUjrge57fdyLaPmw8hzB\"\n",
        "\n",
        "# 2) 내 드라이브에 생성할 상위 대상 폴더명\n",
        "DEST_FOLDER_NAME = \"개인 드라이브 백업\"\n",
        "\n",
        "# 3) 옵션: 로그 파일을 MyDrive에 저장할지 여부\n",
        "SAVE_LOGS_TO_MYDRIVE = True\n",
        "\n",
        "# --------------------------------------------\n",
        "# 준비: 인증 + 라이브러리\n",
        "# --------------------------------------------\n",
        "from google.colab import auth\n",
        "auth.authenticate_user()\n",
        "\n",
        "!pip -q install tqdm\n",
        "from googleapiclient.discovery import build\n",
        "from googleapiclient.errors import HttpError\n",
        "from tqdm import tqdm\n",
        "import time, os, csv, datetime\n",
        "\n",
        "service = build(\"drive\", \"v3\")\n",
        "\n",
        "# --------------------------------------------\n",
        "# 유틸: URL → Folder ID 추출\n",
        "# --------------------------------------------\n",
        "def extract_folder_id(url: str) -> str:\n",
        "    if \"folders/\" in url:\n",
        "        return url.split(\"folders/\")[1].split(\"?\")[0].strip().strip(\"/\")\n",
        "    raise ValueError(\"올바른 구글 드라이브 폴더 URL을 입력하세요. (예: .../drive/folders/<FOLDER_ID>)\")\n",
        "\n",
        "SRC_FOLDER_ID = extract_folder_id(SRC_FOLDER_URL)\n",
        "print(\"📂 추출된 Folder ID:\", SRC_FOLDER_ID)\n",
        "\n",
        "# --------------------------------------------\n",
        "# 유틸: 대상 폴더 확인/생성\n",
        "# --------------------------------------------\n",
        "def ensure_folder(name: str, parent_id: str = \"root\") -> str:\n",
        "    q = (\n",
        "        f\"trashed=false and mimeType='application/vnd.google-apps.folder' \"\n",
        "        f\"and name='{name.replace('\\\"','\\\\\\\"')}' and '{parent_id}' in parents\"\n",
        "    )\n",
        "    res = service.files().list(\n",
        "        q=q,\n",
        "        fields=\"files(id,name)\",\n",
        "        includeItemsFromAllDrives=True,\n",
        "        supportsAllDrives=True,\n",
        "        corpora=\"allDrives\",\n",
        "        pageSize=1,\n",
        "    ).execute()\n",
        "    files = res.get(\"files\", [])\n",
        "    if files:\n",
        "        return files[0][\"id\"]\n",
        "\n",
        "    folder_metadata = {\n",
        "        \"name\": name,\n",
        "        \"mimeType\": \"application/vnd.google-apps.folder\",\n",
        "        \"parents\": [parent_id],\n",
        "    }\n",
        "    new_folder = service.files().create(\n",
        "        body=folder_metadata,\n",
        "        fields=\"id\",\n",
        "        supportsAllDrives=True,\n",
        "    ).execute()\n",
        "    return new_folder[\"id\"]\n",
        "\n",
        "# --------------------------------------------\n",
        "# 유틸: 폴더 내 목록 (paging)\n",
        "# --------------------------------------------\n",
        "def list_children(folder_id: str):\n",
        "    page_token = None\n",
        "    while True:\n",
        "        res = service.files().list(\n",
        "            q=f\"trashed=false and '{folder_id}' in parents\",\n",
        "            spaces=\"drive\",\n",
        "            fields=\"nextPageToken, files(id, name, mimeType)\",\n",
        "            includeItemsFromAllDrives=True,\n",
        "            supportsAllDrives=True,\n",
        "            corpora=\"allDrives\",\n",
        "            pageToken=page_token,\n",
        "            pageSize=1000,\n",
        "        ).execute()\n",
        "        for item in res.get(\"files\", []):\n",
        "            yield item\n",
        "        page_token = res.get(\"nextPageToken\", None)\n",
        "        if not page_token:\n",
        "            break\n",
        "\n",
        "# --------------------------------------------\n",
        "# 유틸: 재귀적으로 트리 탐색 (경로 포함)\n",
        "# --------------------------------------------\n",
        "GOOGLE_FOLDER = \"application/vnd.google-apps.folder\"\n",
        "\n",
        "def walk_tree(folder_id: str, base_path: str=\"\"):\n",
        "    \"\"\"yield dict: {id, name, mimeType, path} (파일/폴더 모두)\"\"\"\n",
        "    for item in list_children(folder_id):\n",
        "        path = f\"{base_path}/{item['name']}\".lstrip(\"/\")\n",
        "        yield {\"id\": item[\"id\"], \"name\": item[\"name\"], \"mimeType\": item[\"mimeType\"], \"path\": path}\n",
        "        if item[\"mimeType\"] == GOOGLE_FOLDER:\n",
        "            yield from walk_tree(item[\"id\"], path)\n",
        "\n",
        "# --------------------------------------------\n",
        "# 유틸: 파일 복사 (재시도 포함)\n",
        "# --------------------------------------------\n",
        "def copy_file(file_id: str, new_name: str, parent_id: str):\n",
        "    body = {\"name\": new_name, \"parents\": [parent_id]}\n",
        "    for attempt in range(6):  # 최대 6회(backoff 1,2,4,8,16초)\n",
        "        try:\n",
        "            return service.files().copy(\n",
        "                fileId=file_id,\n",
        "                body=body,\n",
        "                fields=\"id\",\n",
        "                supportsAllDrives=True,\n",
        "            ).execute()\n",
        "        except HttpError as e:\n",
        "            # 일시적/쿼터/속도 제한 에러 → 백오프 후 재시도\n",
        "            if e.resp.status in (403, 429, 500, 503):\n",
        "                sleep_s = 2 ** attempt\n",
        "                time.sleep(sleep_s)\n",
        "                continue\n",
        "            raise\n",
        "\n",
        "# --------------------------------------------\n",
        "# 유틸: 폴더 복사 (재귀) + 진행률/로그\n",
        "# --------------------------------------------\n",
        "def copy_folder_with_progress(src_folder_id: str, dst_parent_id: str, dst_name: str):\n",
        "    # 1) 전체 파일 수 사전 스캔\n",
        "    print(\"📊 사전 스캔 중... (총 파일 수 집계)\")\n",
        "    all_nodes = list(walk_tree(src_folder_id))\n",
        "    total_files = sum(1 for n in all_nodes if n[\"mimeType\"] != GOOGLE_FOLDER)\n",
        "    print(f\"총 파일 수: {total_files:,} (폴더 제외)\\n\")\n",
        "\n",
        "    # 2) 대상 루트 폴더 확보\n",
        "    dst_root_id = ensure_folder(dst_name, dst_parent_id)\n",
        "    dst_root_url = f\"https://drive.google.com/drive/folders/{dst_root_id}\"\n",
        "\n",
        "    # 3) 경로 → 대상 폴더ID 캐시\n",
        "    folder_cache = {\"\": dst_root_id}\n",
        "\n",
        "    # 4) 로그 준비\n",
        "    ts = datetime.datetime.now().strftime(\"%Y%m%d_%H%M%S\")\n",
        "    log_rows = []\n",
        "    log_header = [\"timestamp\",\"type\",\"src_id\",\"src_path\",\"dst_id\",\"dst_path\",\"status\",\"message\"]\n",
        "    log_dir = \"/content/drive/MyDrive/copy_logs\" if SAVE_LOGS_TO_MYDRIVE else \"/content\"\n",
        "    os.makedirs(log_dir, exist_ok=True)\n",
        "    log_path = os.path.join(log_dir, f\"drive_copy_log_{ts}.csv\")\n",
        "\n",
        "    def log_event(row):\n",
        "        log_rows.append(row)\n",
        "        with open(log_path, \"a\", newline=\"\", encoding=\"utf-8\") as f:\n",
        "            w = csv.writer(f)\n",
        "            if f.tell() == 0:\n",
        "                w.writerow(log_header)\n",
        "            w.writerow(row)\n",
        "\n",
        "    # 5) 진행바\n",
        "    pbar = tqdm(total=total_files, unit=\"file\", desc=\"복사 진행\", ncols=100)\n",
        "\n",
        "    # 6) 트리 순회하며 복사\n",
        "    for node in all_nodes:\n",
        "        ntype = \"folder\" if node[\"mimeType\"] == GOOGLE_FOLDER else \"file\"\n",
        "        now = datetime.datetime.now().isoformat(timespec=\"seconds\")\n",
        "\n",
        "        if ntype == \"folder\":\n",
        "            parent_path = \"/\".join(node[\"path\"].split(\"/\")[:-1])\n",
        "            parent_id = folder_cache.get(parent_path, dst_root_id)\n",
        "            if node[\"path\"] not in folder_cache:\n",
        "                new_id = ensure_folder(node[\"name\"], parent_id)\n",
        "                folder_cache[node[\"path\"]] = new_id\n",
        "                log_event([now,\"folder\",node[\"id\"],node[\"path\"],new_id,node[\"path\"],\"OK\",\"folder ensured\"])\n",
        "        else:\n",
        "            parent_path = \"/\".join(node[\"path\"].split(\"/\")[:-1])\n",
        "            parent_id = folder_cache.get(parent_path, dst_root_id)\n",
        "            try:\n",
        "                copied = copy_file(node[\"id\"], node[\"name\"], parent_id)\n",
        "                log_event([now,\"file\",node[\"id\"],node[\"path\"],copied[\"id\"],node[\"path\"],\"OK\",\"copied\"])\n",
        "            except Exception as e:\n",
        "                log_event([now,\"file\",node[\"id\"],node[\"path\"],\"\",node[\"path\"],\"FAIL\",str(e)])\n",
        "            finally:\n",
        "                pbar.update(1)\n",
        "                pbar.set_postfix_str(node[\"path\"][:50])\n",
        "\n",
        "    pbar.close()\n",
        "    print(f\"\\n🧾 로그 저장 위치: {log_path}\")\n",
        "    print(f\"📂 최종 대상 폴더: {dst_root_url}\")  # 👈 링크 출력\n",
        "    return dst_root_id, dst_root_url\n",
        "\n",
        "# 실행\n",
        "print(f\"🚀 복사 시작: SRC({SRC_FOLDER_ID}) → 내 드라이브 / '{DEST_FOLDER_NAME}'\")\n",
        "dst_id, dst_url = copy_folder_with_progress(SRC_FOLDER_ID, \"root\", DEST_FOLDER_NAME)"
      ]
    }
  ],
  "metadata": {
    "colab": {
      "provenance": [],
      "include_colab_link": true
    },
    "kernelspec": {
      "display_name": "Python 3",
      "name": "python3"
    },
    "language_info": {
      "name": "python"
    }
  },
  "nbformat": 4,
  "nbformat_minor": 0
}