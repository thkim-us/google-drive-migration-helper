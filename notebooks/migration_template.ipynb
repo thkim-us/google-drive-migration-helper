{
  "cells": [
    {
      "cell_type": "markdown",
      "metadata": {},
      "source": [
        "# Google Drive 마이그레이션 테스트 (간단 버전)\n",
        "\n",
        "이 노트북은 `credentials.json` 없이 Google Colab의 내장 인증을 사용합니다.\n",
        "\n",
        "## 사용 방법\n",
        "1. 셀을 순서대로 실행하세요\n",
        "2. Google 계정으로 로그인하세요\n",
        "3. 파일 목록을 확인하세요\n"
      ]
    },
    {
      "cell_type": "code",
      "execution_count": null,
      "metadata": {},
      "outputs": [],
      "source": [
        "# 필요한 라이브러리 설치\n",
        "%pip install google-api-python-client pandas tqdm\n",
        "\n",
        "import os\n",
        "import pandas as pd\n",
        "from tqdm import tqdm\n",
        "from datetime import datetime\n",
        "\n",
        "# Google Colab 내장 인증 사용\n",
        "from google.colab import auth\n",
        "from googleapiclient.discovery import build\n",
        "from googleapiclient.errors import HttpError\n",
        "\n",
        "print(\"✅ 라이브러리 로드 완료\")\n"
      ]
    },
    {
      "cell_type": "code",
      "execution_count": null,
      "metadata": {},
      "outputs": [],
      "source": [
        "# Google 계정 인증 (credentials.json 불필요)\n",
        "print(\"🔐 Google 계정 인증을 시작합니다...\")\n",
        "print(\"팝업 창에서 Google 계정으로 로그인하세요.\")\n",
        "\n",
        "# Google Colab 내장 인증 사용\n",
        "auth.authenticate_user()\n",
        "\n",
        "# Google Drive API 서비스 생성\n",
        "drive_service = build('drive', 'v3')\n",
        "\n",
        "print(\"✅ 인증 완료!\")\n"
      ]
    },
    {
      "cell_type": "code",
      "execution_count": null,
      "metadata": {},
      "outputs": [],
      "source": [
        "# 사용자 정보 조회\n",
        "print(\"👤 사용자 정보 조회 중...\")\n",
        "\n",
        "try:\n",
        "    about = drive_service.about().get(fields='user').execute()\n",
        "    user_info = about.get('user', {})\n",
        "    \n",
        "    print(f\"✅ 사용자 정보:\")\n",
        "    print(f\"  - 이름: {user_info.get('displayName', 'Unknown')}\")\n",
        "    print(f\"  - 이메일: {user_info.get('emailAddress', 'Unknown')}\")\n",
        "    \n",
        "except Exception as e:\n",
        "    print(f\"❌ 사용자 정보 조회 실패: {e}\")\n"
      ]
    },
    {
      "cell_type": "code",
      "execution_count": null,
      "metadata": {},
      "outputs": [],
      "source": [
        "# 파일 목록 조회\n",
        "print(\"📁 파일 목록 조회 중...\")\n",
        "\n",
        "try:\n",
        "    results = drive_service.files().list(\n",
        "        pageSize=10,\n",
        "        fields=\"nextPageToken, files(id, name, mimeType, size, createdTime, modifiedTime, shared)\"\n",
        "    ).execute()\n",
        "    \n",
        "    files = results.get('files', [])\n",
        "    \n",
        "    if files:\n",
        "        print(f\"✅ 파일 목록 (최대 10개):\")\n",
        "        \n",
        "        for i, file in enumerate(files, 1):\n",
        "            file_size = int(file.get('size', 0)) if file.get('size') else 0\n",
        "            size_str = f\"{file_size/1024:.1f}KB\" if file_size > 0 else \"폴더\"\n",
        "            shared_str = \"🔗\" if file.get('shared', False) else \"🔒\"\n",
        "            \n",
        "            print(f\"  {i:2d}. {file['name']} ({size_str}) {shared_str}\")\n",
        "            print(f\"      ID: {file['id']}\")\n",
        "            print(f\"      타입: {file.get('mimeType', 'Unknown')}\")\n",
        "            print(f\"      수정일: {file.get('modifiedTime', 'Unknown')}\")\n",
        "            print()\n",
        "    else:\n",
        "        print(\"❌ 파일을 찾을 수 없습니다.\")\n",
        "        \n",
        "except Exception as e:\n",
        "    print(f\"❌ 파일 목록 조회 실패: {e}\")\n"
      ]
    }
  ],
  "metadata": {
    "language_info": {
      "name": "python"
    }
  },
  "nbformat": 4,
  "nbformat_minor": 2
}
